{
 "cells": [
  {
   "cell_type": "markdown",
   "id": "73521dc1-7898-44c8-b1a6-16be7f0d2674",
   "metadata": {},
   "source": [
    "# August Puzzle Solution 2024"
   ]
  },
  {
   "cell_type": "markdown",
   "id": "af37aad6-936d-49ea-bfca-89eb6061fc86",
   "metadata": {},
   "source": [
    "## Puzzle\n",
    "\n",
    "“There’s always a bug going round, so it’s important to keep hospitals well staffed. Government regulations require that each hospital maintain a ratio of at least 1 nurse to every 2 patients, 99% of the time.\n",
    "\n",
    "If City A has 5,000 people and City B has 50,000, what is the ratio of nurses at hospital A to those at hospital B?”\n",
    "\n",
    "Reference solution in [brilliant](https://brilliantorg.notion.site/August-puzzle-solution-ede1c0b76646442bb5a7a3bddb2ed56f)\n"
   ]
  },
  {
   "cell_type": "markdown",
   "id": "45508b01-c6d9-4a47-a78b-320a5ed303ed",
   "metadata": {},
   "source": [
    "## Solution\n",
    "\n",
    "Let:\n",
    "\n",
    " $n$ - number of nurses at the hospital\n",
    " \n",
    " $m$ - population of the city\n",
    " \n",
    " $p = 0.0015$ -  the probability that on any given day a person is a patient in a hospital\n",
    " \n",
    " $q = 1 - p = 0.9985$  -  the probability that on any given day a person is not a patient in a hospital\n",
    "\n",
    " $X$ - random value of patients in the hospital on the given day\n",
    " \n",
    " $Y$ - random value of nurses in the hospital on the given day\n",
    " \n",
    " $T$ - some period, $T > 0$.\n",
    "\n",
    "Define $t(k)$ as days when $X \\ge k$. The probability that on the given day exactly $k$ people out of $m$ in the hospital is:\n",
    "\n",
    "$$\n",
    "  P(m, k) = \\mathrm{C}_{m}^{k}p^{k}q^{m-k}\n",
    "$$\n",
    " \n",
    "Then:\n",
    "  \n",
    "  $$\n",
    "  t(k) = t(k - 1) + TP(m, k), k > 0\n",
    "  $$\n",
    "  \n",
    "  $$\n",
    "  t(0) = TP(m, 0)\n",
    "  $$\n",
    "\n",
    "After telescopic evaluation and division by $T$\n",
    "\n",
    "$$  \n",
    "  \\frac{t(k)}{T} = \\sum_{k=0}^{m}P(m, k)\n",
    "$$  \n",
    "\n",
    "Note that $F(k) = t(k)/T = P(X \\le k)$ - the probability that on any given day there are no more than $k$ people in the hospital.\n",
    "Easy to see, that $F(k)$ is binomial, or:\n",
    "\n",
    "$$\n",
    "  X \\sim B(m, p)\n",
    "$$  \n",
    "  \n",
    "\n",
    "Since $m \\gg  1$  (about 5000 .. 50000) is big enough, the normal distribution is a good approximation so that we may say\n",
    "\n",
    "$$\n",
    "  X \\sim \\mathcal{N}(pm, mpq)\n",
    "$$\n",
    "\n",
    "Which imply \n",
    "\n",
    "$$\n",
    "  \\mu = pm\n",
    "$$\n",
    "$$\n",
    "  \\sigma^{2}=mpq\n",
    "$$\n",
    "\n",
    "To satisfy the requirement of the nurses to the patients ratio, we need to ensure that\n",
    "\n",
    "1). $Y = X/2$, when $X \\le 2n$,  99% of time\n",
    "\n",
    "2). $Y = n$,   when $X > 2n$, 1% of time\n",
    "\n",
    "\n",
    "In other words\n",
    "\n",
    "$$\n",
    "  F(2n) = 0.99\n",
    "$$  \n",
    "\n",
    "For any $x$, \n",
    "\n",
    "$$\n",
    "F(x) = \\Phi\\left( \\frac{x-pm}{mpq} \\right)\n",
    "$$\n",
    "\n",
    "Where $\\Phi$ is the *cumulative distribution function of the standard normal distribution*.\n",
    "\n",
    "Take inverse of $\\Phi$ for 0.99 :\n",
    "\n",
    "$$\n",
    "\\frac{2n - pm}{mpq}=2.326\n",
    "$$\n",
    "  \n",
    " \n",
    "for the convenience of formulas let's define $a = 2.326$\n",
    "\n",
    "Then for any city\n",
    "\n",
    "$$\n",
    "n=\\frac{1}{2}\\left( a\\sqrt{pqm} + pm\\right)\n",
    "$$\n",
    "  "
   ]
  },
  {
   "cell_type": "code",
   "execution_count": 1,
   "id": "3b5b0e65-946d-4f79-bd98-bfad1901d66d",
   "metadata": {},
   "outputs": [
    {
     "data": {
      "text/plain": [
       "'Ratio of nurses in 2 cities: 6.9'"
      ]
     },
     "execution_count": 1,
     "metadata": {},
     "output_type": "execute_result"
    }
   ],
   "source": [
    "import numpy as np\n",
    "\n",
    "m_A =  5000 # population of city A\n",
    "m_B = 50000 # population of city B\n",
    " \n",
    "p = 0.0015\n",
    "q = 1 - p\n",
    "\n",
    "a = 2.326 # CDF inverse for 0.99\n",
    "\n",
    "def nurces(m):\n",
    "    return 0.5 * (a*np.sqrt(p*q*m) + p*m)\n",
    "    \n",
    "\n",
    "n_A = nurces(m_A)\n",
    "n_B = nurces(m_B)\n",
    "\n",
    "ratio = n_B/n_A\n",
    "f'Ratio of nurses in 2 cities: {ratio:.1f}'\n",
    " "
   ]
  },
  {
   "cell_type": "markdown",
   "id": "345685e1-6c59-462d-b532-ad4f140d7d30",
   "metadata": {},
   "source": []
  }
 ],
 "metadata": {
  "kernelspec": {
   "display_name": "Python 3 (ipykernel)",
   "language": "python",
   "name": "python3"
  },
  "language_info": {
   "codemirror_mode": {
    "name": "ipython",
    "version": 3
   },
   "file_extension": ".py",
   "mimetype": "text/x-python",
   "name": "python",
   "nbconvert_exporter": "python",
   "pygments_lexer": "ipython3",
   "version": "3.8.19"
  }
 },
 "nbformat": 4,
 "nbformat_minor": 5
}
