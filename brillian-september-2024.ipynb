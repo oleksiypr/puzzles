{
 "cells": [
  {
   "cell_type": "markdown",
   "id": "2478ab40-3ccb-4e78-bc57-3a2475163dcc",
   "metadata": {},
   "source": [
    "# September Puzzle Solution 2024"
   ]
  },
  {
   "cell_type": "markdown",
   "id": "12d915ca-390d-439f-820f-207e31fd3706",
   "metadata": {},
   "source": [
    "## Question 1\n",
    "\n",
    "A hot Mongolian folk band is playing tonight. The venue is a coffee house in the middle of a street that has 11 parking spots, as shown above. Each spot is open with probability p = 1/20.\n",
    "If you approach from the right end of the street, what is the probability that the first open spot you encounter is zero or 1 spots away from the venue?"
   ]
  },
  {
   "cell_type": "markdown",
   "id": "3d898629-ba07-4345-a4ba-699bc552b92a",
   "metadata": {},
   "source": [
    "Let:\n",
    "\n",
    "  $X$ - radom variabe, distance from from the venue, $X \\geq 0$\n",
    "  \n",
    "  $p = 1/2 = 0.05$    - probaility that the spot is open\n",
    "  \n",
    "  $q = 1 - p = 0.95$  - probaility that the spot is closed\n",
    "\n",
    "The spot is 1 or zero spots away from the venue while moving from the right to left means eigher:\n",
    "1) right spots #5, 4, 3, 2 closed and #1 is open or\n",
    "2) right spots #5, 4, 3, 2, 1 closed and #0 is open or\n",
    "2) right spots #5, 4, 3, 2, 1 closed and #0 closed and left #1 opend\n",
    "\n",
    "This means:\n",
    "\n",
    "$$\n",
    "   \\mathrm{P} (X\\leqslant 1) = pq^4 + pq^5 + pq^6 = 0.116\n",
    "$$\n"
   ]
  },
  {
   "cell_type": "markdown",
   "id": "d49f730c-f1f1-4efc-8de7-b897938d7208",
   "metadata": {},
   "source": [
    "## Question 2\n",
    "\n",
    "The Mongolians are back and more popular than ever. They’re playing a bigger venue this time, and you want to park as close to the show as possible. The venue is in the middle of a very long one-way street—so you can’t return to a parking spot once you pass it. You also can’t see if a spot is open or not until you’re next to it and, as before, each spot is open with probability p = 1/20.\n",
    "On average, how close can you park to the venue if you park optimally?"
   ]
  },
  {
   "cell_type": "markdown",
   "id": "118f71cc-8f55-4e05-a9f8-04d987fd819a",
   "metadata": {},
   "source": [
    "Apply the approach from Task 1 while moving from the right to the venue starting at spot $x$. Then the pobaility that the spot is at position $i$ right to the spot (and inclusive) is $pq^{x-i}$. The probality that we passed the vanue and did no find any spot is $q^{x + 1}$. After the vanue passed we need to move until the fisrt free spot, thus in avarage we will need $1/p$ moves. Everage distance is an expactation of $X$ which includes both cases: the spot found form the right and inluding the vanue or left from the venue:\n",
    "\n",
    "$$\n",
    "\\left\\langle D(x) \\right\\rangle = p\\sum_{i=0}^{x}iq^{x-i}+\\frac{1}{p}q^{x+1}\n",
    "$$\n",
    "\n",
    "Let us approximate the discrete expression for the average distance with the continuous function instead:\n",
    "\n",
    "$$\n",
    "\\left\\langle D(x) \\right\\rangle = p\\int_{0}^{x}tq^{x-t}dt + \\frac{1}{p}q^{x+1}\n",
    "$$\n",
    "\n",
    "Then we may find optimal solutuin as the minum $\\left\\langle D(x) \\right\\rangle$ as $d\\left\\langle D(x) \\right\\rangle/dx = 0$:\n",
    "\n",
    "$$\n",
    "\\frac{d}{dx}\\left\\langle D(x) \\right\\rangle = p\\frac{d}{dx}\\int_{0}^{x}tq^{x-t}dt + \\frac{1}{p}\\frac{d}{dx}q^{x+1} = 0\n",
    "$$\n",
    "\n",
    "$$\n",
    "\\Rightarrow  px + \\frac{\\mathrm{ln}p}{p}q^{x+1} = 0\n",
    "$$\n",
    "\n"
   ]
  },
  {
   "cell_type": "code",
   "execution_count": 14,
   "id": "73e9be39-1478-4809-8121-c1ffcf3f5d83",
   "metadata": {},
   "outputs": [
    {
     "data": {
      "image/png": "[encoded data removed]",
      "text/plain": [
       "<Figure size 640x480 with 1 Axes>"
      ]
     },
     "metadata": {},
     "output_type": "display_data"
    }
   ],
   "source": [
    "import numpy as np\n",
    "import matplotlib.pyplot as plt\n",
    "from scipy.optimize import fsolve\n",
    "\n",
    "p = 1/20\n",
    "q = 1 - p\n",
    "\n",
    "f = lambda x : p*x + (np.log(q)/p)*q**(x + 1)\n",
    "\n",
    "x = np.linspace(0., 20., 20)\n",
    "\n",
    "plt.plot(x, f(x))\n",
    "plt.xlabel(\"x\")\n",
    "plt.ylabel(\"f(x)\")\n",
    "plt.axhline(y=0, color='k')\n",
    "plt.axvline(x=0, color='k')\n",
    "plt.grid()\n",
    "plt.show()"
   ]
  },
  {
   "cell_type": "markdown",
   "id": "c22c6310-ade1-4c4e-a82f-a87e3dd4562a",
   "metadata": {},
   "source": [
    "We can see, that the solution is between 10 and 12.5:"
   ]
  },
  {
   "cell_type": "code",
   "execution_count": 30,
   "id": "755e554a-433f-42e0-be61-ffde6414efed",
   "metadata": {},
   "outputs": [
    {
     "name": "stdout",
     "output_type": "stream",
     "text": [
      "Average optinal distance from the vanue : 11.06\n"
     ]
    }
   ],
   "source": [
    "x_initial_guess = 10.\n",
    "x_solution = fsolve(f, x)\n",
    "\n",
    "print(f'Average optinal distance from the vanue : {x_solution[0]:.f}')"
   ]
  },
  {
   "cell_type": "code",
   "execution_count": null,
   "id": "ea04698f-a1fa-4b73-9c14-4b1facc164d2",
   "metadata": {},
   "outputs": [],
   "source": []
  }
 ],
 "metadata": {
  "kernelspec": {
   "display_name": "Python 3 (ipykernel)",
   "language": "python",
   "name": "python3"
  },
  "language_info": {
   "codemirror_mode": {
    "name": "ipython",
    "version": 3
   },
   "file_extension": ".py",
   "mimetype": "text/x-python",
   "name": "python",
   "nbconvert_exporter": "python",
   "pygments_lexer": "ipython3",
   "version": "3.8.19"
  }
 },
 "nbformat": 4,
 "nbformat_minor": 5
}
