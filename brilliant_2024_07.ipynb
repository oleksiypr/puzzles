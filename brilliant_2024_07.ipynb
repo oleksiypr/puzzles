{
 "cells": [
  {
   "cell_type": "markdown",
   "id": "a66216ca-9c9b-4283-9459-57ae034c4474",
   "metadata": {},
   "source": [
    "# July Puzzle Solution 2024\n",
    "\n",
    "\n"
   ]
  },
  {
   "cell_type": "markdown",
   "id": "fa11c004-e54c-4728-8db7-ffdb88930c06",
   "metadata": {},
   "source": [
    "## Puzzle\n",
    "\n",
    "July’s puzzle introduced you to Peter, the guy in charge of pond maintenance at an Italian restaurant franchise. Each day, there is a 1% chance that 1 gram of algae will drop into the water and start to grow. Once in the pond, the amount of algae doubles every 4 days. Each cleaning costs \\\\$200 to measure the amount of algae in the water, plus \\\\$1 per kilogram of algae removed. \n",
    "\n",
    "If Peter wants to minimize the average daily cost of keeping the pond clean, we asked, how often should he clean it?\n",
    "\n",
    "Reference solution in [brilliant](https://brilliantorg.notion.site/July-Puzzle-Solution-8e561210baa54e7b8ef97c7da29372c1)"
   ]
  },
  {
   "cell_type": "markdown",
   "id": "24f58af3-ffb6-430f-ba9a-ddefdeb82ffe",
   "metadata": {},
   "source": [
    "## Solution\n",
    "\n",
    "If there’s a 1% chance that 1 gram of algae drops into the water for 1 day then for 100 days there will be 1 gram in avarage and t/100 grams for t days. At the same time once in the pond, the amount of algae doubles every 4 days or 2^(t/4) time for t days. This imply that the change in algae mass in dt days consists of 2 these values:\n",
    "\n",
    "$$\n",
    "dm = m(t)(2^{dt/4}-1)+\\frac{dt}{100}\n",
    "$$\n",
    "\n",
    "or (for very small $dt$):\n",
    "\n",
    "$$\n",
    "dm = m(t)(1 + \\frac{ln2}{4}dt - 1) + \\frac{dt}{100} = m(t)\\frac{ln2}{4}dt + \\frac{dt}{100}\n",
    "$$\n",
    "\n",
    "or\n",
    "\n",
    "$$\n",
    "\\frac{dm}{dt} = m(t)\\frac{ln2}{4} + \\frac{1}{100}\n",
    "$$\n",
    "\n",
    "Provied that $m(0) = 0$:\n",
    "\n",
    "$$\n",
    "m(t) = \\frac{1}{25ln2}\\left( 2^{t/4} -1 \\right)\n",
    "$$\n",
    "\n",
    "for $t>= 0$.\n",
    "\n",
    "Let $T$ - days between cleanings. During one cleaning the amount of algae to be removed is $m(T)$ grams or $m(T)/1000 kg$. For each algae removal Peter needs $m(T)/1000$ USD. Also Peter needs $t/T$ cleans for $t$ days, \\\\$200 each clean. Total cleaning cost for $t$ days is:\n",
    "\n",
    "$$\n",
    "A(t) = 200\\frac{t}{T} + \\frac{m(T)}{1000}\\frac{t}{T}\n",
    "$$\n",
    "\n",
    "Average daily cost is $A(t)/t$:\n",
    "\n",
    "$$\n",
    "a(T) = \\frac{200}{T} + \\frac{m(T)}{1000T}\n",
    "$$\n",
    "\n",
    "We can see that for vary small T $a(T)$ grows infinetly and reduces when $T$ gets bigger.  For very big $T$ $a(T)$ grows infinetly as well and reduces as $T$ gets smaller. Thus the solution is a local minima:\n",
    "\n",
    "$$\n",
    "a'(T) = 0\n",
    "$$\n",
    "$$\n",
    "m'(T)T - m(T) = 2\\cdot10^{5}\n",
    "$$\n",
    "\n",
    "\n",
    "Putting all together and silmifying :\n",
    "\n",
    "$$\n",
    "\\frac{1}{25}2^{\\frac{T}{4}}\\left( \\frac{T}{4} - \\frac{1}{ln2} \\right) = 2\\cdot 10^{5}\n",
    "$$\n",
    "\n",
    "or\n",
    "\n",
    "$$\n",
    "\\frac{e}{25\\cdot ln2}e^{\\frac{T}{4}ln2 - 1}\\left( \\frac{T}{4}ln2 - 1 \\right) = 2\\cdot 10^{5}\n",
    "$$\n",
    "\n",
    "Using _Lambert_ $W-function$:\n",
    "\n",
    "$$\n",
    "\\frac{T}{4}ln2 - 1 = W_{0}\\left( 25\\cdot \\frac{ln2}{e} \\cdot 2\\cdot 10^{5}\\right)\n",
    "$$\n",
    "\n",
    "\n",
    "Here we use _*SciPy*_ lib to calultae the _Lambert_ $W-function$: \n"
   ]
  },
  {
   "cell_type": "code",
   "execution_count": 1,
   "id": "977ae727-f840-419c-bfc2-46ed663cfee2",
   "metadata": {},
   "outputs": [
    {
     "name": "stdout",
     "output_type": "stream",
     "text": [
      "Channels:\n",
      " - defaults\n",
      "Platform: osx-64\n",
      "Collecting package metadata (repodata.json): done\n",
      "Solving environment: done\n",
      "\n",
      "# All requested packages already installed.\n",
      "\n",
      "\n",
      "Note: you may need to restart the kernel to use updated packages.\n"
     ]
    }
   ],
   "source": [
    "%conda install scipy\n"
   ]
  },
  {
   "cell_type": "code",
   "execution_count": 2,
   "id": "1f1d1383-1b41-4431-9715-a9ec81faac21",
   "metadata": {},
   "outputs": [
    {
     "data": {
      "text/plain": [
       "'Optimal cleaning period is: 73 days'"
      ]
     },
     "execution_count": 2,
     "metadata": {},
     "output_type": "execute_result"
    }
   ],
   "source": [
    "import numpy as np\n",
    "from scipy.special import lambertw as W\n",
    "\n",
    "\n",
    "B = 25 * np.log(2)/np.e\n",
    "B = B * 2e5\n",
    "\n",
    "T = W(B).real\n",
    "T = T + 1\n",
    "T = T * 4/np.log(2)\n",
    "\n",
    "f'Optimal cleaning period is: {T:.0f} days'\n"
   ]
  },
  {
   "cell_type": "code",
   "execution_count": null,
   "id": "b87eb9f9-9855-4af7-a491-95a21c7cdb7d",
   "metadata": {},
   "outputs": [],
   "source": []
  }
 ],
 "metadata": {
  "kernelspec": {
   "display_name": "Python 3 (ipykernel)",
   "language": "python",
   "name": "python3"
  },
  "language_info": {
   "codemirror_mode": {
    "name": "ipython",
    "version": 3
   },
   "file_extension": ".py",
   "mimetype": "text/x-python",
   "name": "python",
   "nbconvert_exporter": "python",
   "pygments_lexer": "ipython3",
   "version": "3.8.19"
  }
 },
 "nbformat": 4,
 "nbformat_minor": 5
}
