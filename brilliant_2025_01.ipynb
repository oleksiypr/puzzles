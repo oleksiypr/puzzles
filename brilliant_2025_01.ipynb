{
 "cells": [
  {
   "cell_type": "markdown",
   "id": "0cfe76e5-814c-44ea-b216-835f1c70d04f",
   "metadata": {},
   "source": [
    "# January 2025 Puzzle Solution \n"
   ]
  },
  {
   "cell_type": "markdown",
   "id": "3ee1b51b-4fc2-46bc-af64-52e95fad25b4",
   "metadata": {},
   "source": [
    "Feeling lucky? A prize wheel features prizes worth 1 USD, 3 USD, and 10 USD. The probability of spinning a 1 USD prize is 0.8, a 3 USD prize is 0.15, and a 10 USD prize is 0.05. With each spin, you can either take the prize you land on or give it up and spin again. You get 8 spins total and can collect only 1 prize.\n",
    "\n",
    " \n",
    "**If you play the game optimally, what’s the expected total value of your prizes?**\n",
    "\n",
    "Bonus: Now you have 10 spins total but can collect up to 2 prizes. If you play the game optimally, now what’s the expected total value of your prizes? \n",
    "\n",
    "[Reference solution on brilliant](https://brilliantorg.notion.site/January-solution-189b4926c48580938beffaae390b0f50)"
   ]
  },
  {
   "cell_type": "markdown",
   "id": "ce7bbeef-a65c-4b34-94d9-13797cc12bf4",
   "metadata": {},
   "source": [
    "## Solution \n",
    "\n",
    "## The Strategy  \n",
    "\n",
    "For any attempt:  \n",
    "\n",
    "1. If 10 USD $\\Rightarrow$ take the prize, quit the game.  \n",
    "2. If 1 USD and remaining attempts $\\Rightarrow$ give it up and spin again.  \n",
    "3. If 1 USD and no attempts $\\Rightarrow$ take the prize, game over.  \n",
    "4. If 3 USD and the remaining attempts are not less than a **threshold** value $\\Rightarrow$ give it up and spin again.  \n",
    "5. If 3 USD and the remaining attempts are less than a threshold value $\\Rightarrow$ take the prize, quit the game.  \n",
    "\n",
    "\n",
    "Let:  \n",
    "\n",
    "$p = 0.80$ - the probability of spinning a 1 USD prize  \n",
    "$q = 0.15$ - the probability of spinning a 3 USD prize  \n",
    "$g = 0.05$ - the probability of spinning a 10 USD prize  \n",
    "$n = 8$ - attempts  \n",
    "\n",
    "### Computing the Threshold Value  \n",
    "\n",
    "The player decides to give the prize up and spin again if the chance to get a larger prize for the **remaining attempts** $t$ is bigger than vice versa. The **threshold** condition is:  \n",
    "\n",
    "$$\n",
    "1 - p^t > p^t\n",
    "$$\n",
    "\n",
    "Thus, the player gives it up if the remaining attempts $t\\geq 4$. Set the **threshold** to exactly $t=4$.  \n",
    "\n",
    "### Possible Game Outcomes  \n",
    "\n",
    "The game may be completed with either a 1 USD prize, 3 USD prize, or 10 USD prize:  \n",
    "\n",
    " - **1 USD prize**: When the first $n-t$ attempts result in 1 USD or 3 USD, and all the others are exactly 1 USD.  \n",
    " - **3 USD prize**: When the first $n-t$ attempts result in 1 USD or 3 ASD, then the player spins exactly 1 USD and gives it up until the first 3 USD.  \n",
    " - **10 USD prize**: When the first 10 USD occurs during the first $n-t$ spins, or else all further attempts should be 1 USD until the first 10 USD.  \n",
    "\n",
    "Put it all together:  \n",
    "\n"
   ]
  },
  {
   "cell_type": "markdown",
   "id": "7a0d92de-fc90-4da8-910e-6aea7046b666",
   "metadata": {
    "scrolled": true
   },
   "source": [
    "$$\n",
    "\\mathrm{P}\\left( X = 1USD \\right) = \\left( p+q \\right)^{n-t}p^{t} = a^{s}p^{t}\n",
    "$$"
   ]
  },
  {
   "cell_type": "markdown",
   "id": "1d83ad7f-1af1-4c14-9d92-9693f4de3c3d",
   "metadata": {},
   "source": [
    "Where: \n",
    " - $a = p + q$  - the probability that the player wins 1 USD or 3 USD\n",
    " - $s = n-t$ - first attempts before the threshold\n",
    " - $X$ - random variable representing the amount of the prize\n",
    "\n",
    "\n",
    "$$\n",
    "\\mathrm{P}\\left( X = 3 USD \\right) = a^{s}\\left( q+pq+p^{2}q+...+p^{t-1}q \\right) = a^{s}q\\frac{1-p^{t}}{1-p}\n",
    "$$\n",
    "\n",
    "\n",
    "The first 10 USD that occurs during the first $s=n-t$ spins is the opposite of the event of 1 USD or 3 USD (anything that is not 10 USD) during **all** first $s=n-t$ spins: $1 - a^{s}$. Winning 10 USD for the remaining attempts means 1 USD or 3 USD first $s=n-t$ attempts and then the first 10 USD after 1 USD in all prior attempts: \n",
    "\n",
    "$$\n",
    "a^{s}\\left( g + gp + gp^{2} + ... + gp^{t-1}\\right) = a^{s}g\\frac{1-p^{t}}{1-p}\n",
    "$$\n",
    "\n",
    "\n",
    "Thus:\n",
    "\n",
    "$$\n",
    "\\mathrm{P}\\left( X = 10 USD \\right) = 1 - a^{s}\\left( 1-g \\frac{1-p^{t}}{1-p} \\right) \n",
    "$$\n",
    "\n",
    "\n",
    "Note that 1 USD prize, 3 USD prize and 10 USD prize form a *Complete Set of Events*:\n",
    "\n",
    "$$\n",
    "\\mathrm{P}\\left( X = 1USD \\right) + \\mathrm{P}\\left( X = 3 USD \\right) + \\mathrm{P}\\left( X = 10 USD \\right)  = 1\n",
    "$$\n",
    "\n",
    "Let's do a sanity check and proof that:\n"
   ]
  },
  {
   "cell_type": "code",
   "execution_count": 6,
   "id": "e09c54a9-bf41-4f37-9478-1a5a9e5a1af9",
   "metadata": {},
   "outputs": [
    {
     "data": {
      "text/latex": [
       "$\\displaystyle \\text{True}$"
      ],
      "text/plain": [
       "True"
      ]
     },
     "execution_count": 6,
     "metadata": {},
     "output_type": "execute_result"
    }
   ],
   "source": [
    "from sympy import symbols, Eq, simplify\n",
    "\n",
    "p, q, g, n, t = symbols('p q g n t')\n",
    "\n",
    "a = p + q\n",
    "g = 1 - a\n",
    "s = n - t\n",
    "\n",
    "P_1USD  = (a**s) * (p**t)\n",
    "P_3USD  = a**s*q*(1 - p**t)/(1 - p)\n",
    "P_10USD = 1 - a**s*(1 - g*(1 - p**t)/(1 - p))\n",
    "\n",
    "Eq(simplify(P_1USD + P_3USD + P_10USD), 1)"
   ]
  },
  {
   "cell_type": "markdown",
   "id": "1d6f125b-a04d-4189-af19-ddd156e1b6ca",
   "metadata": {},
   "source": [
    "### Expected prize for the basic game"
   ]
  },
  {
   "cell_type": "markdown",
   "id": "ecb5d1f1-f9a7-43a5-b84f-602248e29847",
   "metadata": {},
   "source": [
    "$$\n",
    "1 \\cdot \\mathrm{P}\\left( X = 1USD \\right) + 3 \\cdot \\mathrm{P}\\left( X = 3 USD \\right) + 10 \\cdot \\mathrm{P}\\left( X = 10 USD \\right)\n",
    "$$"
   ]
  },
  {
   "cell_type": "code",
   "execution_count": 9,
   "id": "9e56eb3e-aa86-4bed-918a-c573530529b8",
   "metadata": {},
   "outputs": [
    {
     "name": "stdout",
     "output_type": "stream",
     "text": [
      "Expected optimal prize prise in game#1: 4.473 USD\n"
     ]
    }
   ],
   "source": [
    "import brilliant_2025_01 as res\n",
    "\n",
    "max_attampts = 8\n",
    "print(f'Expected optimal prize prise in game#1: {res.expected_prize_1(max_attampts):.3f} USD')\n"
   ]
  },
  {
   "cell_type": "markdown",
   "id": "f4df1b22-a750-4095-bb83-713addfb1e35",
   "metadata": {},
   "source": [
    "### General case \n",
    "\n",
    "The plot below shows the expected prize as a function of the number of attempts. We can observe that by following the strategy outlined above, the expected prize approaches $10 when the number of attempts is sufficiently large.\n",
    "\n"
   ]
  },
  {
   "cell_type": "code",
   "execution_count": 11,
   "id": "462f7ea4-c25d-47f0-9492-fe25cc5d6cc1",
   "metadata": {},
   "outputs": [
    {
     "data": {
      "image/png": "[encoded data removed]",
      "text/plain": [
       "<Figure size 640x480 with 1 Axes>"
      ]
     },
     "metadata": {},
     "output_type": "display_data"
    }
   ],
   "source": [
    "import numpy as np\n",
    "import matplotlib.pyplot as plt\n",
    "\n",
    "def plot_expected_prizes_game_1(max_attempts):\n",
    "    n_values = np.arange(1, max_attempts)\n",
    "    expected_values = [res.expected_prize_1(n) for n in n_values]\n",
    "\n",
    "    plt.scatter(n_values, expected_values, color='blue', label='Expected Prize, USD')\n",
    "    plt.xlabel('n')\n",
    "    plt.ylabel('Expected Prize in Game 1')\n",
    "    plt.ylim(0)\n",
    "    plt.title('Expected Prize vs. game attempts')\n",
    "    plt.legend()\n",
    "    plt.grid()\n",
    "    plt.show()\n",
    "\n",
    "\n",
    "plot_expected_prizes_game_1(max_attempts=100)"
   ]
  },
  {
   "cell_type": "code",
   "execution_count": null,
   "id": "350a931a-cfa2-472c-9e67-a2e357e00c7f",
   "metadata": {},
   "outputs": [],
   "source": []
  }
 ],
 "metadata": {
  "kernelspec": {
   "display_name": "Python 3 (ipykernel)",
   "language": "python",
   "name": "python3"
  },
  "language_info": {
   "codemirror_mode": {
    "name": "ipython",
    "version": 3
   },
   "file_extension": ".py",
   "mimetype": "text/x-python",
   "name": "python",
   "nbconvert_exporter": "python",
   "pygments_lexer": "ipython3",
   "version": "3.8.19"
  }
 },
 "nbformat": 4,
 "nbformat_minor": 5
}
