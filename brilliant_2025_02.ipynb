{
 "cells": [
  {
   "cell_type": "markdown",
   "id": "0bda9401-efe9-4ecc-b46d-d3f1cb7524a6",
   "metadata": {},
   "source": [
    "# February 2025 Puzzle\n"
   ]
  },
  {
   "cell_type": "markdown",
   "id": "8c0a5901-e718-43b6-ad37-ca2e2870fed3",
   "metadata": {},
   "source": [
    "Flo and Jo are having a snowball fight. Flo hits her target 70% of the time. Jo hits hers 30% of the time. One at a time, they chuck snowballs at each other, starting with Jo. Each only has 4 snowballs to throw. If someone gets hit, they lose. Otherwise, the game ends in a tie.\n",
    "\n",
    "**What’s the chance that Jo wins?**\n",
    "\n",
    "Bonus: Now, Flo and Jo play for as long as it takes for someone to win. What would Jo’s accuracy have to become for her to have a 50% chance of winning the match?\n",
    "\n",
    "[Reference solution on brilliant](https://brilliantorg.notion.site/February-puzzle-solution-1a6b4926c48580ddaf28ca44d0edb777)"
   ]
  },
  {
   "cell_type": "markdown",
   "id": "f7e1a617-5ffb-4bec-a0d4-1a8659555b1d",
   "metadata": {},
   "source": [
    "## Solution\n",
    "\n",
    "Jo hits with probability $p = 0.3$ and Flo hits with probability $q = 0.7$. Jo wins _if_ he hits at the first chuck, _or else if_ Flo misses at her first chuck _and_ Jo hits at his second chuck and so on _till_ the last attempt. Based on the above, the probability that Jo hits at his first chuck is just $p$, the probability that Jo hits at the second chuck is $p(1 - p)(1 - q)$, at the third chuck $p[(1 - p)(1 - q)]^2$ and so on. \n",
    "\n",
    "Let:\n",
    "\n",
    "$$\n",
    "r = (1 - p)(1 - q) = 0.21\n",
    "$$\n",
    "\n",
    "Then the probability that Jo wins with 4 snowballs:\n",
    "\n",
    "$$\n",
    " P_4 = p + pr + pr^2 + pr^3 = 0.379\n",
    "$$\n",
    "\n",
    "\n",
    "\n",
    "\n",
    "## Bonus. \n",
    "\n",
    "Generalize this to the case with arbitrary $n$:\n",
    "\n",
    "  $$\n",
    "  P_n = p + pr + pr^2 + ... + pr^{n-1} = p\\frac{1-r^n}{1-r}\n",
    "  $$\n",
    "  \n",
    "\n",
    "Flo and Jo play for as long as it takes, which means $n$ arbitrary large and Jo may win in the $1st$ or at the $2nd$ _or_ the ... $n-th$, $(n + 1)-th$, ... and so on. The probability Jo wins is \n",
    "\n",
    "$$\n",
    "P^* = \\lim_{n \\to \\infty} P_n = \\frac {p}{1 - r}\n",
    "$$\n",
    "\n",
    "Let's solve this  for Jo's accuracy $p_1$ when  $P^* = 1/2$:\n",
    "\n",
    "$$\n",
    "\\frac{p_1}{1 - (1 - p_1)(1 - q)} = \\frac {1}{2}\n",
    "$$\n",
    "\n",
    "$$\n",
    "\\implies p_1 = \\frac{q}{1 + q} = 0.4118\n",
    "$$\n"
   ]
  },
  {
   "cell_type": "code",
   "execution_count": null,
   "id": "cdf05536-88ee-417b-b3df-481f1ee2719c",
   "metadata": {},
   "outputs": [],
   "source": []
  }
 ],
 "metadata": {
  "kernelspec": {
   "display_name": "Python 3 (ipykernel)",
   "language": "python",
   "name": "python3"
  },
  "language_info": {
   "codemirror_mode": {
    "name": "ipython",
    "version": 3
   },
   "file_extension": ".py",
   "mimetype": "text/x-python",
   "name": "python",
   "nbconvert_exporter": "python",
   "pygments_lexer": "ipython3",
   "version": "3.8.19"
  }
 },
 "nbformat": 4,
 "nbformat_minor": 5
}
